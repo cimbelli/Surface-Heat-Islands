{
  "cells": [
    {
      "cell_type": "markdown",
      "metadata": {
        "id": "view-in-github",
        "colab_type": "text"
      },
      "source": [
        "<a href=\"https://colab.research.google.com/github/cimbelli/Surface-Heat-Islands/blob/main/temperatura_max_mensile_capoluoghi-regione_1.4.ipynb\" target=\"_parent\"><img src=\"https://colab.research.google.com/assets/colab-badge.svg\" alt=\"Open In Colab\"/></a>"
      ]
    },
    {
      "cell_type": "markdown",
      "id": "d7b8b79f-b161-4291-b331-20f106f45b1b",
      "metadata": {
        "id": "d7b8b79f-b161-4291-b331-20f106f45b1b"
      },
      "source": [
        "## Stima delle temperatura massima mensile nei capoluoghi di regione"
      ]
    },
    {
      "cell_type": "code",
      "execution_count": 5,
      "id": "69f40aee-f2b8-4ab9-9524-c499f11f8d0b",
      "metadata": {
        "tags": [],
        "colab": {
          "base_uri": "https://localhost:8080/"
        },
        "id": "69f40aee-f2b8-4ab9-9524-c499f11f8d0b",
        "outputId": "c0060c61-c361-43f8-e229-f23636015333"
      },
      "outputs": [
        {
          "output_type": "stream",
          "name": "stdout",
          "text": [
            "Requirement already satisfied: rasterstats in /usr/local/lib/python3.10/dist-packages (0.19.0)\n",
            "Requirement already satisfied: affine in /usr/local/lib/python3.10/dist-packages (from rasterstats) (2.4.0)\n",
            "Requirement already satisfied: click>7.1 in /usr/local/lib/python3.10/dist-packages (from rasterstats) (8.1.7)\n",
            "Requirement already satisfied: cligj>=0.4 in /usr/local/lib/python3.10/dist-packages (from rasterstats) (0.7.2)\n",
            "Requirement already satisfied: fiona in /usr/local/lib/python3.10/dist-packages (from rasterstats) (1.9.5)\n",
            "Requirement already satisfied: numpy>=1.9 in /usr/local/lib/python3.10/dist-packages (from rasterstats) (1.23.5)\n",
            "Requirement already satisfied: rasterio>=1.0 in /usr/local/lib/python3.10/dist-packages (from rasterstats) (1.3.9)\n",
            "Requirement already satisfied: simplejson in /usr/local/lib/python3.10/dist-packages (from rasterstats) (3.19.2)\n",
            "Requirement already satisfied: shapely in /usr/local/lib/python3.10/dist-packages (from rasterstats) (2.0.2)\n",
            "Requirement already satisfied: attrs in /usr/local/lib/python3.10/dist-packages (from rasterio>=1.0->rasterstats) (23.1.0)\n",
            "Requirement already satisfied: certifi in /usr/local/lib/python3.10/dist-packages (from rasterio>=1.0->rasterstats) (2023.7.22)\n",
            "Requirement already satisfied: snuggs>=1.4.1 in /usr/local/lib/python3.10/dist-packages (from rasterio>=1.0->rasterstats) (1.4.7)\n",
            "Requirement already satisfied: click-plugins in /usr/local/lib/python3.10/dist-packages (from rasterio>=1.0->rasterstats) (1.1.1)\n",
            "Requirement already satisfied: setuptools in /usr/local/lib/python3.10/dist-packages (from rasterio>=1.0->rasterstats) (67.7.2)\n",
            "Requirement already satisfied: six in /usr/local/lib/python3.10/dist-packages (from fiona->rasterstats) (1.16.0)\n",
            "Requirement already satisfied: pyparsing>=2.1.6 in /usr/local/lib/python3.10/dist-packages (from snuggs>=1.4.1->rasterio>=1.0->rasterstats) (3.1.1)\n",
            "Requirement already satisfied: wget in /usr/local/lib/python3.10/dist-packages (3.2)\n"
          ]
        }
      ],
      "source": [
        "import os\n",
        "import ee\n",
        "import pandas as pd\n",
        "import json\n",
        "import geopandas as gpd\n",
        "import requests\n",
        "\n",
        "#ee.Authenticate()\n",
        "ee.Initialize()\n",
        "!pip install rasterstats\n",
        "!pip install wget\n",
        "import wget\n",
        "from rasterstats import zonal_stats"
      ]
    },
    {
      "cell_type": "code",
      "execution_count": 6,
      "id": "26b3440c-f7fd-4fcc-8cea-2c3473b9f7bb",
      "metadata": {
        "tags": [],
        "id": "26b3440c-f7fd-4fcc-8cea-2c3473b9f7bb"
      },
      "outputs": [],
      "source": [
        "anno = 2023\n",
        "mesi = [6,7,8,9]"
      ]
    },
    {
      "cell_type": "code",
      "execution_count": 7,
      "id": "100ebdd5-ee50-4470-899c-f35fd13d3bfc",
      "metadata": {
        "id": "100ebdd5-ee50-4470-899c-f35fd13d3bfc"
      },
      "outputs": [],
      "source": [
        "import folium\n",
        "from folium import plugins\n",
        "\n",
        "def add_ee_layer(self, ee_image_object, vis_params, name):\n",
        "    map_id_dict = ee.Image(ee_image_object).getMapId(vis_params)\n",
        "    folium.raster_layers.TileLayer(\n",
        "      tiles=map_id_dict['tile_fetcher'].url_format,\n",
        "      attr='Map Data &copy; <a href=\"https://earthengine.google.com/\">Google Earth Engine</a>',\n",
        "      name=name,\n",
        "      overlay=True,\n",
        "      control=True\n",
        "    ).add_to(self)\n",
        "\n",
        "folium.Map.add_ee_layer = add_ee_layer"
      ]
    },
    {
      "cell_type": "code",
      "source": [
        "def crea_mappa(nomecom,periodo):\n",
        "  m = folium.Map(location=(centro.y[0],centro.x[0] ), tiles=\"cartodb positron\", zoom_start=12)\n",
        "  folium.Choropleth(\n",
        "      geo_data=df_sez11,\n",
        "      name=\"Media per sezione delle temperature massime mensili\",\n",
        "      data=sdf1,\n",
        "      columns=[\"SEZ\", \"m202308\"],\n",
        "      key_on=\"feature.properties.SEZ\",\n",
        "      fill_color= 'YlOrRd', #YlGn\n",
        "      fill_opacity=0.7,\n",
        "      line_opacity=0.2,\n",
        "      legend_name=\"Unemployment Rate (%)\",\n",
        "  ).add_to(m)\n",
        "\n",
        "  folium.LayerControl().add_to(m)\n",
        "  m.save(comune + '_' + str(anno) + mese1 + '.html')"
      ],
      "metadata": {
        "id": "l19dHroXpcJx"
      },
      "id": "l19dHroXpcJx",
      "execution_count": 8,
      "outputs": []
    },
    {
      "cell_type": "code",
      "execution_count": 9,
      "id": "c2425995-cddd-4822-8cd1-e7cd6f029ddb",
      "metadata": {
        "tags": [],
        "id": "c2425995-cddd-4822-8cd1-e7cd6f029ddb"
      },
      "outputs": [],
      "source": [
        "def scarica(lyr, name, aoi):\n",
        "    url = lyr.getDownloadUrl({\n",
        "        'name': name[:-4],\n",
        "        'bands': ['ST'],\n",
        "        'region': aoi,\n",
        "        'scale': 50,\n",
        "        'format': 'GEO_TIFF'\n",
        "    })\n",
        "    response = requests.get(url)\n",
        "    with open(name, 'wb') as fd:\n",
        "        fd.write(response.content)\n",
        "    return None"
      ]
    },
    {
      "cell_type": "code",
      "execution_count": 10,
      "id": "81837cbc-75a7-45d2-935e-a4541a08b8ce",
      "metadata": {
        "tags": [],
        "id": "81837cbc-75a7-45d2-935e-a4541a08b8ce"
      },
      "outputs": [],
      "source": [
        "# Add custom basemaps to folium\n",
        "basemaps = {\n",
        "    'Google Maps': folium.TileLayer(\n",
        "        tiles = 'https://mt1.google.com/vt/lyrs=m&x={x}&y={y}&z={z}',\n",
        "        attr = 'Google',\n",
        "        name = 'Google Maps',\n",
        "        overlay = True,\n",
        "        control = True\n",
        "    ),\n",
        "    'Google Satellite': folium.TileLayer(\n",
        "        tiles = 'https://mt1.google.com/vt/lyrs=s&x={x}&y={y}&z={z}',\n",
        "        attr = 'Google',\n",
        "        name = 'Google Satellite',\n",
        "        overlay = True,\n",
        "        control = True\n",
        "    ),\n",
        "    'Google Terrain': folium.TileLayer(\n",
        "        tiles = 'https://mt1.google.com/vt/lyrs=p&x={x}&y={y}&z={z}',\n",
        "        attr = 'Google',\n",
        "        name = 'Google Terrain',\n",
        "        overlay = True,\n",
        "        control = True\n",
        "    ),\n",
        "    'Google Satellite Hybrid': folium.TileLayer(\n",
        "        tiles = 'https://mt1.google.com/vt/lyrs=y&x={x}&y={y}&z={z}',\n",
        "        attr = 'Google',\n",
        "        name = 'Google Satellite',\n",
        "        overlay = True,\n",
        "        control = True\n",
        "    ),\n",
        "    'Esri Satellite': folium.TileLayer(\n",
        "        tiles = 'https://server.arcgisonline.com/ArcGIS/rest/services/World_Imagery/MapServer/tile/{z}/{y}/{x}',\n",
        "        attr = 'Esri',\n",
        "        name = 'Esri Satellite',\n",
        "        overlay = True,\n",
        "        control = True\n",
        "    )\n",
        "}"
      ]
    },
    {
      "cell_type": "code",
      "execution_count": 11,
      "id": "032e7ad8-79f2-4ab3-9908-0336b73c7bac",
      "metadata": {
        "tags": [],
        "id": "032e7ad8-79f2-4ab3-9908-0336b73c7bac"
      },
      "outputs": [],
      "source": [
        "# carica lo shape dei capoluoghi di regione\n",
        "nomecap = 'comprovll4.geojson'\n",
        "if not(os.path.isfile(nomecap)):\n",
        "  #wget.download('https://github.com/cimbelli/Surface-Heat-Islands/raw/5006ef2e37091eedf421f65ed9cbf80c15ccbdfd/' + nomecap)\n",
        "  wget.download('https://raw.githubusercontent.com/cimbelli/Surface-Heat-Islands/main/' + nomecap)\n",
        "g = open(nomecap)\n",
        "cc = json.load(g)\n",
        "\n",
        "gdf = gpd.read_file(nomecap)\n",
        "centro = gdf.to_crs(epsg=3857).centroid.to_crs(gdf.crs)\n",
        "#gdf[\"lon\"] = gdf.to_crs(epsg=3857).centroid.to_crs(gdf.crs) #gdf[\"geometry\"].to_crs(4326).centroid.x\n",
        "#gdf[\"lat\"] = gdf[\"geometry\"].centroid.y\n",
        "gdf[\"lon\"] = centro.x\n",
        "gdf[\"lat\"] = centro.y"
      ]
    },
    {
      "cell_type": "code",
      "source": [
        " print((6-len(str(id1)))*'0'+ str(id1))"
      ],
      "metadata": {
        "id": "8S3BhozXFWUH",
        "outputId": "6570f400-bfd2-45cc-8e7c-0b3ae067037b",
        "colab": {
          "base_uri": "https://localhost:8080/"
        }
      },
      "id": "8S3BhozXFWUH",
      "execution_count": 24,
      "outputs": [
        {
          "output_type": "stream",
          "name": "stdout",
          "text": [
            "071024\n"
          ]
        }
      ]
    },
    {
      "cell_type": "code",
      "execution_count": null,
      "id": "5d38ca97-7420-4507-a95f-841fb6e97ca7",
      "metadata": {
        "tags": [],
        "colab": {
          "base_uri": "https://localhost:8080/"
        },
        "id": "5d38ca97-7420-4507-a95f-841fb6e97ca7",
        "outputId": "f949750e-62cc-4419-920d-5b86159874fc"
      },
      "outputs": [
        {
          "output_type": "stream",
          "name": "stdout",
          "text": [
            "0 071024\n",
            "scarico immagine Foggia 2023 mese 6 n° acquisizioni 3\n",
            "scarico immagine Foggia 2023 mese 7 n° acquisizioni 7\n",
            "scarico immagine Foggia 2023 mese 8 n° acquisizioni 12\n",
            "scarico immagine Foggia 2023 mese 9 n° acquisizioni 7\n",
            "Create statistiche mensili per Foggia estate 2023\n"
          ]
        }
      ],
      "source": [
        "try:\n",
        "  del sdf\n",
        "except:\n",
        "  pass\n",
        "for i in range(len(cc['features'])):\n",
        "\n",
        "    reg = cc['features'][i]['properties']['COD_REG']\n",
        "    reg1 = ('0' if reg < 10 else '') + str(reg)\n",
        "    id1 = cc['features'][i]['properties']['PRO_COM']\n",
        "    procom1 = '0' * (6-len(str(id1))) + str(id1)\n",
        "    print((6-len(str(id1)))*'0', procom1)\n",
        "\n",
        "    coords = cc['features'][i]['geometry']['coordinates']\n",
        "    fc = ee.FeatureCollection(cc['features'])\n",
        "    comune = cc['features'][i]['properties']['COMUNE']\n",
        "\n",
        "    nomefilesez = 'sez11_' + procom1 +'.geojson'\n",
        "    if not(os.path.isfile(nomefilesez)):\n",
        "      urlfilesez = 'https://raw.githubusercontent.com/cimbelli/Surface-Heat-Islands/main/sez11/' + nomefilesez\n",
        "      wget.download(urlfilesez)\n",
        "    g1 = open(nomefilesez)\n",
        "    df_sez11 = gpd.read_file(g1)\n",
        "    df_sez11['PRO_COM'] = df_sez11['PRO_COM'].astype(int)\n",
        "    df_sez11['SEZ'] = df_sez11['SEZ'].astype(int)\n",
        "\n",
        "    lat = gdf[gdf['PRO_COM']== id1]['lat'].values[0]\n",
        "    lon = gdf[gdf['PRO_COM']== id1]['lon'].values[0]\n",
        "\n",
        "    minx = gdf[gdf['PRO_COM']== id1].geometry.bounds.minx.values[0]\n",
        "    maxx = gdf[gdf['PRO_COM']== id1].geometry.bounds.maxx.values[0]\n",
        "    miny = gdf[gdf['PRO_COM']== id1].geometry.bounds.miny.values[0]\n",
        "    maxy = gdf[gdf['PRO_COM']== id1].geometry.bounds.maxy.values[0]\n",
        "\n",
        "    region = ee.Geometry.BBox(minx, miny, maxx, maxy)\n",
        "\n",
        "    for mese in mesi:\n",
        "        nome_img = 'ST_' + comune + '_'+ str(anno) + '0' + str(mese) + '.tif'\n",
        "        mese2 = ('0' + str(mese+1)) if mese < 9 else str(mese+1)\n",
        "\n",
        "        if not(os.path.isfile(nome_img)):\n",
        "\n",
        "            L9 = ee.ImageCollection('LANDSAT/LC09/C02/T1_L2').filterDate(str(anno) + '-0' + str(mese) +'-01', str(anno) + '-' + mese2 +'-01')\n",
        "            L8 = ee.ImageCollection('LANDSAT/LC08/C02/T1_L2').filterDate(str(anno) + '-0' + str(mese) +'-01', str(anno) + '-' + mese2 +'-01')\n",
        "            bands = ['ST_B10', 'QA_PIXEL']\n",
        "            bandName = ['ST', 'QA_PIXEL']\n",
        "            filtered_L9 = L9.filter(ee.Filter.lt('CLOUD_COVER', 20)).select(bands, bandName)#.map(cloudMask)\n",
        "            filtered_L8 = L8.filter(ee.Filter.lt('CLOUD_COVER', 20)).select(bands, bandName)#.map(cloudMask)\n",
        "            LandsatColl = filtered_L8.merge(filtered_L9)\n",
        "            LandsatColl = LandsatColl.select('ST').filterBounds(region)\n",
        "\n",
        "            lst = LandsatColl.max().clip(fc)\n",
        "            thermal = lst.select('ST.*').multiply(0.00341802).add(149.0).subtract(273.15)\n",
        "\n",
        "\n",
        "            # zonal stats per sezioni\n",
        "            print('scarico immagine', comune, anno, \"mese\",mese, \"n° acquisizioni\", LandsatColl.size().getInfo())\n",
        "\n",
        "            scarica(thermal, nome_img, region)\n",
        "        else:\n",
        "            print(nome_img, 'già presente')\n",
        "\n",
        " # se è il primo mese usa il df delle sezioni originario altrimenti quello con precedenti stats\n",
        "        try:\n",
        "            df_o = sdf\n",
        "            #print(\"sdf esistente\")\n",
        "        except:\n",
        "            df_o = df_sez11\n",
        "            #stats = zonal_stats(df_o, nome_img, stats=\"mean\")\n",
        "\n",
        "            #print(\"sdf non esistente\")\n",
        "        stats = zonal_stats(df_o, nome_img, stats=\"mean\")\n",
        "        sdf = pd.DataFrame(stats)\n",
        "        sdf.rename(columns={'mean': 'm' + str(anno) + '0' + str(mese) }, inplace=True)\n",
        "        sdf = pd.concat([df_o, sdf], axis=1)\n",
        "        stats.clear()\n",
        "\n",
        "        #print('regione', reg, comune, 'anno', anno, 'mese', mese)#, center)#, aoi)\n",
        "    sdf1 = sdf.drop('geometry', axis=1) # sdf.drop('geometry', inplace=True, axis=1)\n",
        "    sdf1.to_excel(comune + '_' + 'stats.xlsx', index=False)\n",
        "    sdf1.to_csv(comune + '_' + 'stats.csv', index=False)\n",
        "\n",
        "    #del sdf\n",
        "    print(\"Create statistiche mensili per\", comune, \"estate\", anno)\n",
        "\n",
        "    # Crea la mappa per il comune e il mese di agosto\n",
        "    m = folium.Map(location=(centro.y[0],centro.x[0] ), tiles=\"cartodb positron\", zoom_start=12)\n",
        "    folium.Choropleth(\n",
        "        geo_data=df_sez11,\n",
        "        name =\"Media per sezione delle temperature massime mensili - \" + comune + '-' + 'Agosto',\n",
        "        data=sdf1,\n",
        "        columns=[\"SEZ\", \"m202308\"],\n",
        "        key_on=\"feature.properties.SEZ\",\n",
        "        fill_color= 'YlOrRd',\n",
        "        fill_opacity=0.7,\n",
        "        line_opacity=0.2,\n",
        "        legend_name=\"Media per sezione delle temperature massime mensili\",\n",
        "    ).add_to(m)\n",
        "\n",
        "    style_function = lambda x: {'fillColor': '#ffffff', 'color':'#000000', 'fillOpacity': 0.1, 'weight': 0.1}\n",
        "    SuburbName = folium.features.GeoJson(sdf, style_function=style_function,\n",
        "        control=False, tooltip=folium.features.GeoJsonTooltip(\n",
        "            fields=['SEZ',\"m202308\"],\n",
        "            style=(\"background-color: white; color: #333333; font-family: arial; font-size: 12px; padding: 10px;\")\n",
        "        )\n",
        "    )\n",
        "    m.add_child(SuburbName)\n",
        "    m.keep_in_front(SuburbName)\n",
        "    basemaps['Google Satellite'].add_to(m)\n",
        "\n",
        "    folium.LayerControl().add_to(m)\n",
        "    m.save(comune + '_' + str(anno) + '08' + '.html')\n",
        "    print(\"Creata mappa interattiva per\", comune, \"agosto\", anno)\n",
        "\n",
        "    break\n"
      ]
    },
    {
      "cell_type": "code",
      "execution_count": null,
      "id": "b8c837d5-bf78-46aa-8076-6d8daf39b373",
      "metadata": {
        "tags": [],
        "id": "b8c837d5-bf78-46aa-8076-6d8daf39b373"
      },
      "outputs": [],
      "source": [
        "sdf1"
      ]
    },
    {
      "cell_type": "code",
      "source": [
        "# Crea la mappa per il comune e il mese\n",
        "m = folium.Map(location=(centro.y[0],centro.x[0] ), tiles=\"cartodb positron\", zoom_start=12)\n",
        "folium.Choropleth(\n",
        "    geo_data=df_sez11,\n",
        "    name=\"Media per sezione delle temperature massime mensili\",\n",
        "    data=sdf1,\n",
        "    columns=[\"SEZ\", \"m202308\"],\n",
        "    key_on=\"feature.properties.SEZ\",\n",
        "    fill_color= 'YlOrRd', #YlGn\n",
        "    fill_opacity=0.7,\n",
        "    line_opacity=0.2,\n",
        "    legend_name=\"Media per sezione delle temperature massime mensili\",\n",
        ").add_to(m)\n",
        "\n",
        "style_function = lambda x: {'fillColor': '#ffffff',\n",
        "                            'color':'#000000',\n",
        "                            'fillOpacity': 0.1,\n",
        "                            'weight': 0.1}\n",
        "SuburbName = folium.features.GeoJson(\n",
        "    sdf,\n",
        "    style_function=style_function,\n",
        "    control=False,\n",
        "    tooltip=folium.features.GeoJsonTooltip(\n",
        "        fields=['SEZ',\"m202308\"],\n",
        "        style=(\"background-color: white; color: #333333; font-family: arial; font-size: 12px; padding: 10px;\")\n",
        "    )\n",
        ")\n",
        "m.add_child(SuburbName)\n",
        "m.keep_in_front(SuburbName)\n",
        "\n",
        "\n",
        "basemaps['Google Satellite'].add_to(m)\n",
        "basemaps['Google Terrain'].add_to(m)\n",
        "folium.LayerControl().add_to(m)\n",
        "#m.save(comune + '_' + str(anno) + str(mese) + '.html')\n",
        "m"
      ],
      "metadata": {
        "id": "dQ7DgRYVf9nF"
      },
      "id": "dQ7DgRYVf9nF",
      "execution_count": null,
      "outputs": []
    },
    {
      "cell_type": "code",
      "execution_count": null,
      "id": "0bf3336e-e0e9-4a85-9428-768eaf082da4",
      "metadata": {
        "id": "0bf3336e-e0e9-4a85-9428-768eaf082da4"
      },
      "outputs": [],
      "source": [
        "style_function = lambda x: {'fillColor': '#ffffff',\n",
        "                            'color':'#000000',\n",
        "                            'fillOpacity': 0.1,\n",
        "                            'weight': 0.1}\n",
        "SuburbName = folium.features.GeoJson(\n",
        "    df_sez11,\n",
        "    style_function=style_function,\n",
        "    control=False,\n",
        "    tooltip=folium.features.GeoJsonTooltip(\n",
        "        fields=['SEZ',\"m202308\"],\n",
        "        style=(\"background-color: white; color: #333333; font-family: arial; font-size: 12px; padding: 10px;\")\n",
        "    )\n",
        ")\n",
        "m.add_child(SuburbName)\n",
        "m.keep_in_front(SuburbName)"
      ]
    }
  ],
  "metadata": {
    "kernelspec": {
      "display_name": "Python 3 (ipykernel)",
      "language": "python",
      "name": "python3"
    },
    "language_info": {
      "codemirror_mode": {
        "name": "ipython",
        "version": 3
      },
      "file_extension": ".py",
      "mimetype": "text/x-python",
      "name": "python",
      "nbconvert_exporter": "python",
      "pygments_lexer": "ipython3",
      "version": "3.11.4"
    },
    "colab": {
      "provenance": [],
      "include_colab_link": true
    }
  },
  "nbformat": 4,
  "nbformat_minor": 5
}