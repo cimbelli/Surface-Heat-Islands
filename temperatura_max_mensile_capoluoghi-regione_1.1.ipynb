{
  "cells": [
    {
      "cell_type": "markdown",
      "id": "a7373136-0f2c-4cf3-9f3a-965c6ed2a789",
      "metadata": {
        "tags": [],
        "id": "a7373136-0f2c-4cf3-9f3a-965c6ed2a789"
      },
      "source": [
        "<a href=\"https://colab.research.google.com/github/cimbelli/Surface-Heat-Islands/blob/main/temperatura_max_mensile_capoluoghi-regione_1.1.ipynb\" target=\"_parent\"><img src=\"https://colab.research.google.com/assets/colab-badge.svg\" alt=\"Open In Colab\"/></a>"
      ]
    },
    {
      "cell_type": "markdown",
      "id": "d7b8b79f-b161-4291-b331-20f106f45b1b",
      "metadata": {
        "id": "d7b8b79f-b161-4291-b331-20f106f45b1b"
      },
      "source": [
        "## Stima delle temperatura massima mensile nei capoluoghi di regione"
      ]
    },
    {
      "cell_type": "code",
      "execution_count": 6,
      "id": "69f40aee-f2b8-4ab9-9524-c499f11f8d0b",
      "metadata": {
        "tags": [],
        "colab": {
          "base_uri": "https://localhost:8080/"
        },
        "id": "69f40aee-f2b8-4ab9-9524-c499f11f8d0b",
        "outputId": "2ec11077-b5f7-403e-b922-9efd2c17240a"
      },
      "outputs": [
        {
          "output_type": "stream",
          "name": "stdout",
          "text": [
            "Collecting rasterstats\n",
            "  Downloading rasterstats-0.19.0-py3-none-any.whl (16 kB)\n",
            "Collecting affine (from rasterstats)\n",
            "  Downloading affine-2.4.0-py3-none-any.whl (15 kB)\n",
            "Requirement already satisfied: click>7.1 in /usr/local/lib/python3.10/dist-packages (from rasterstats) (8.1.7)\n",
            "Requirement already satisfied: cligj>=0.4 in /usr/local/lib/python3.10/dist-packages (from rasterstats) (0.7.2)\n",
            "Requirement already satisfied: fiona in /usr/local/lib/python3.10/dist-packages (from rasterstats) (1.9.4.post1)\n",
            "Requirement already satisfied: numpy>=1.9 in /usr/local/lib/python3.10/dist-packages (from rasterstats) (1.23.5)\n",
            "Collecting rasterio>=1.0 (from rasterstats)\n",
            "  Downloading rasterio-1.3.8-cp310-cp310-manylinux_2_17_x86_64.manylinux2014_x86_64.whl (21.3 MB)\n",
            "\u001b[2K     \u001b[90m━━━━━━━━━━━━━━━━━━━━━━━━━━━━━━━━━━━━━━━━\u001b[0m \u001b[32m21.3/21.3 MB\u001b[0m \u001b[31m65.8 MB/s\u001b[0m eta \u001b[36m0:00:00\u001b[0m\n",
            "\u001b[?25hCollecting simplejson (from rasterstats)\n",
            "  Downloading simplejson-3.19.1-cp310-cp310-manylinux_2_5_x86_64.manylinux1_x86_64.manylinux_2_17_x86_64.manylinux2014_x86_64.whl (137 kB)\n",
            "\u001b[2K     \u001b[90m━━━━━━━━━━━━━━━━━━━━━━━━━━━━━━━━━━━━━━\u001b[0m \u001b[32m137.9/137.9 kB\u001b[0m \u001b[31m18.9 MB/s\u001b[0m eta \u001b[36m0:00:00\u001b[0m\n",
            "\u001b[?25hRequirement already satisfied: shapely in /usr/local/lib/python3.10/dist-packages (from rasterstats) (2.0.1)\n",
            "Requirement already satisfied: attrs in /usr/local/lib/python3.10/dist-packages (from rasterio>=1.0->rasterstats) (23.1.0)\n",
            "Requirement already satisfied: certifi in /usr/local/lib/python3.10/dist-packages (from rasterio>=1.0->rasterstats) (2023.7.22)\n",
            "Collecting snuggs>=1.4.1 (from rasterio>=1.0->rasterstats)\n",
            "  Downloading snuggs-1.4.7-py3-none-any.whl (5.4 kB)\n",
            "Requirement already satisfied: click-plugins in /usr/local/lib/python3.10/dist-packages (from rasterio>=1.0->rasterstats) (1.1.1)\n",
            "Requirement already satisfied: setuptools in /usr/local/lib/python3.10/dist-packages (from rasterio>=1.0->rasterstats) (67.7.2)\n",
            "Requirement already satisfied: six in /usr/local/lib/python3.10/dist-packages (from fiona->rasterstats) (1.16.0)\n",
            "Requirement already satisfied: pyparsing>=2.1.6 in /usr/local/lib/python3.10/dist-packages (from snuggs>=1.4.1->rasterio>=1.0->rasterstats) (3.1.1)\n",
            "Installing collected packages: snuggs, simplejson, affine, rasterio, rasterstats\n",
            "Successfully installed affine-2.4.0 rasterio-1.3.8 rasterstats-0.19.0 simplejson-3.19.1 snuggs-1.4.7\n",
            "Collecting wget\n",
            "  Downloading wget-3.2.zip (10 kB)\n",
            "  Preparing metadata (setup.py) ... \u001b[?25l\u001b[?25hdone\n",
            "Building wheels for collected packages: wget\n",
            "  Building wheel for wget (setup.py) ... \u001b[?25l\u001b[?25hdone\n",
            "  Created wheel for wget: filename=wget-3.2-py3-none-any.whl size=9655 sha256=2d82dd319c7ae3533c001c1570bc239eae20c819a5a04055ba817d1d813a76e9\n",
            "  Stored in directory: /root/.cache/pip/wheels/8b/f1/7f/5c94f0a7a505ca1c81cd1d9208ae2064675d97582078e6c769\n",
            "Successfully built wget\n",
            "Installing collected packages: wget\n",
            "Successfully installed wget-3.2\n"
          ]
        }
      ],
      "source": [
        "import os\n",
        "import ee\n",
        "import pandas as pd\n",
        "import json\n",
        "import geopandas as gpd\n",
        "import requests\n",
        "#from urllib.request import urlopen\n",
        "#ee.Authenticate()\n",
        "ee.Initialize()\n",
        "!pip install rasterstats\n",
        "!pip install wget\n",
        "import wget\n",
        "from rasterstats import zonal_stats"
      ]
    },
    {
      "cell_type": "code",
      "execution_count": 7,
      "id": "26b3440c-f7fd-4fcc-8cea-2c3473b9f7bb",
      "metadata": {
        "tags": [],
        "id": "26b3440c-f7fd-4fcc-8cea-2c3473b9f7bb"
      },
      "outputs": [],
      "source": [
        "anno = 2023\n",
        "mesi = [6,7,8,9]"
      ]
    },
    {
      "cell_type": "code",
      "execution_count": 8,
      "id": "100ebdd5-ee50-4470-899c-f35fd13d3bfc",
      "metadata": {
        "id": "100ebdd5-ee50-4470-899c-f35fd13d3bfc"
      },
      "outputs": [],
      "source": [
        "import folium\n",
        "from folium import plugins\n",
        "\n",
        "def add_ee_layer(self, ee_image_object, vis_params, name):\n",
        "    map_id_dict = ee.Image(ee_image_object).getMapId(vis_params)\n",
        "    folium.raster_layers.TileLayer(\n",
        "      tiles=map_id_dict['tile_fetcher'].url_format,\n",
        "      attr='Map Data &copy; <a href=\"https://earthengine.google.com/\">Google Earth Engine</a>',\n",
        "      name=name,\n",
        "      overlay=True,\n",
        "      control=True\n",
        "    ).add_to(self)\n",
        "\n",
        "folium.Map.add_ee_layer = add_ee_layer"
      ]
    },
    {
      "cell_type": "code",
      "execution_count": 9,
      "id": "c2425995-cddd-4822-8cd1-e7cd6f029ddb",
      "metadata": {
        "tags": [],
        "id": "c2425995-cddd-4822-8cd1-e7cd6f029ddb"
      },
      "outputs": [],
      "source": [
        "def scarica(lyr, name, aoi):\n",
        "    url = lyr.getDownloadUrl({\n",
        "        'name': name[:-4],\n",
        "        'bands': ['ST'],\n",
        "        'region': aoi,\n",
        "        'scale': 100,\n",
        "        'format': 'GEO_TIFF'\n",
        "    })\n",
        "    response = requests.get(url)\n",
        "    with open(name, 'wb') as fd:\n",
        "        fd.write(response.content)\n",
        "    return None"
      ]
    },
    {
      "cell_type": "code",
      "execution_count": 10,
      "id": "81837cbc-75a7-45d2-935e-a4541a08b8ce",
      "metadata": {
        "tags": [],
        "id": "81837cbc-75a7-45d2-935e-a4541a08b8ce"
      },
      "outputs": [],
      "source": [
        "# Add custom basemaps to folium\n",
        "basemaps = {\n",
        "    'Google Maps': folium.TileLayer(\n",
        "        tiles = 'https://mt1.google.com/vt/lyrs=m&x={x}&y={y}&z={z}',\n",
        "        attr = 'Google',\n",
        "        name = 'Google Maps',\n",
        "        overlay = True,\n",
        "        control = True\n",
        "    ),\n",
        "    'Google Satellite': folium.TileLayer(\n",
        "        tiles = 'https://mt1.google.com/vt/lyrs=s&x={x}&y={y}&z={z}',\n",
        "        attr = 'Google',\n",
        "        name = 'Google Satellite',\n",
        "        overlay = True,\n",
        "        control = True\n",
        "    ),\n",
        "    'Google Terrain': folium.TileLayer(\n",
        "        tiles = 'https://mt1.google.com/vt/lyrs=p&x={x}&y={y}&z={z}',\n",
        "        attr = 'Google',\n",
        "        name = 'Google Terrain',\n",
        "        overlay = True,\n",
        "        control = True\n",
        "    ),\n",
        "    'Google Satellite Hybrid': folium.TileLayer(\n",
        "        tiles = 'https://mt1.google.com/vt/lyrs=y&x={x}&y={y}&z={z}',\n",
        "        attr = 'Google',\n",
        "        name = 'Google Satellite',\n",
        "        overlay = True,\n",
        "        control = True\n",
        "    ),\n",
        "    'Esri Satellite': folium.TileLayer(\n",
        "        tiles = 'https://server.arcgisonline.com/ArcGIS/rest/services/World_Imagery/MapServer/tile/{z}/{y}/{x}',\n",
        "        attr = 'Esri',\n",
        "        name = 'Esri Satellite',\n",
        "        overlay = True,\n",
        "        control = True\n",
        "    )\n",
        "}"
      ]
    },
    {
      "cell_type": "code",
      "execution_count": null,
      "id": "032e7ad8-79f2-4ab3-9908-0336b73c7bac",
      "metadata": {
        "tags": [],
        "id": "032e7ad8-79f2-4ab3-9908-0336b73c7bac"
      },
      "outputs": [],
      "source": [
        "# carica lo shape dei capoluoghi di regione\n",
        "\n",
        "wget.download('https://github.com/cimbelli/Surface-Heat-Islands/raw/5006ef2e37091eedf421f65ed9cbf80c15ccbdfd/comregll3.geojson')\n",
        "g = open('comregll3.geojson')\n",
        "cc = json.load(g)\n",
        "\n",
        "gdf = gpd.read_file('comregll3.geojson')\n",
        "#gdf[\"lon\"] = gdf[\"geometry\"].centroid.x\n",
        "#gdf[\"lat\"] = gdf[\"geometry\"].centroid.y"
      ]
    },
    {
      "cell_type": "code",
      "execution_count": null,
      "id": "5d38ca97-7420-4507-a95f-841fb6e97ca7",
      "metadata": {
        "tags": [],
        "colab": {
          "base_uri": "https://localhost:8080/"
        },
        "id": "5d38ca97-7420-4507-a95f-841fb6e97ca7",
        "outputId": "06dc81ea-78b7-4049-861a-dbb9f284c930"
      },
      "outputs": [
        {
          "output_type": "stream",
          "name": "stdout",
          "text": [
            "scarico immagine Milano 2023 6 n° acquisizioni 5\n",
            "regione 3 Milano anno 2023 mese 6\n",
            "scarico immagine Milano 2023 7 n° acquisizioni 3\n",
            "regione 3 Milano anno 2023 mese 7\n",
            "scarico immagine Milano 2023 8 n° acquisizioni 10\n"
          ]
        }
      ],
      "source": [
        "for i in range(len(cc['features'])):\n",
        "\n",
        "    reg = cc['features'][i]['properties']['REG']\n",
        "    reg1 = ('0' if reg < 10 else '') + str(reg)\n",
        "    id1 = cc['features'][i]['properties']['PRO_COM']\n",
        "\n",
        "    coords = cc['features'][i]['geometry']['coordinates']\n",
        "    fc = ee.FeatureCollection(cc['features'])\n",
        "    comune = cc['features'][i]['properties']['COMUNE']\n",
        "\n",
        "    nomefilesez = 'R' + reg1 + '_11geo.geojson'\n",
        "    urlfilesez = 'https://github.com/cimbelli/Surface-Heat-Islands/raw/606eb4915031627b8b1f38c3d29c5e4cfef7233f/sez11/' + nomefilesez\n",
        "    #print(urlfilesez)\n",
        "    wget.download(urlfilesez)\n",
        "    g1 = open(nomefilesez)\n",
        "    df_sez11 = gpd.read_file(g1)\n",
        "    df_sez11['PRO_COM'] = df_sez11['PRO_COM'].astype(int)\n",
        "    df_sez11['SEZ'] = df_sez11['SEZ'].astype(int)\n",
        "\n",
        "    lat = gdf[gdf['PRO_COM']== id1]['lat'].values[0]\n",
        "    lon = gdf[gdf['PRO_COM']== id1]['lon'].values[0]\n",
        "\n",
        "    minx = gdf[gdf['PRO_COM']== id1].geometry.bounds.minx.values[0]\n",
        "    maxx = gdf[gdf['PRO_COM']== id1].geometry.bounds.maxx.values[0]\n",
        "    miny = gdf[gdf['PRO_COM']== id1].geometry.bounds.miny.values[0]\n",
        "    maxy = gdf[gdf['PRO_COM']== id1].geometry.bounds.maxy.values[0]\n",
        "\n",
        "    region = ee.Geometry.BBox(minx, miny, maxx, maxy)\n",
        "\n",
        "    for mese in mesi:\n",
        "        nome_img = 'ST_' + comune + '_'+ str(anno) + '0' + str(mese) + '.tif'\n",
        "        mese2 = ('0' + str(mese+1)) if mese < 9 else str(mese+1)\n",
        "\n",
        "        if not(os.path.isfile(nome_img)):\n",
        "\n",
        "            L9 = ee.ImageCollection('LANDSAT/LC09/C02/T1_L2').filterDate(str(anno) + '-0' + str(mese) +'-01', str(anno) + '-' + mese2 +'-01')\n",
        "            L8 = ee.ImageCollection('LANDSAT/LC08/C02/T1_L2').filterDate(str(anno) + '-0' + str(mese) +'-01', str(anno) + '-' + mese2 +'-01')\n",
        "            bands = ['ST_B10', 'QA_PIXEL']\n",
        "            bandName = ['ST', 'QA_PIXEL']\n",
        "            filtered_L9 = L9.filter(ee.Filter.lt('CLOUD_COVER', 20)).select(bands, bandName)#.map(cloudMask)\n",
        "            filtered_L8 = L8.filter(ee.Filter.lt('CLOUD_COVER', 20)).select(bands, bandName)#.map(cloudMask)\n",
        "            LandsatColl = filtered_L8.merge(filtered_L9)\n",
        "            LandsatColl = LandsatColl.select('ST').filterBounds(region)\n",
        "\n",
        "            lst = LandsatColl.max().clip(fc)\n",
        "            thermal = lst.select('ST.*').multiply(0.00341802).add(149.0).subtract(273.15)\n",
        "\n",
        "\n",
        "            # zonal stats per sezioni\n",
        "            print('scarico immagine', comune, anno, \"mese\",mese, \"n° acquisizioni\", LandsatColl.size().getInfo())\n",
        "\n",
        "            scarica(thermal, nome_img, region)\n",
        "        else:\n",
        "            print(nome_img, 'già presente')\n",
        "\n",
        " # se è il primo mese usa il df delle sezioni originario altrimenti quello con precedenti stats\n",
        "        try:\n",
        "            df_o = sdf\n",
        "            #print(\"sdf esistente\")\n",
        "        except:\n",
        "            df_o = df_sez11\n",
        "            #stats = zonal_stats(df_o, nome_img, stats=\"mean\")\n",
        "\n",
        "            #print(\"sdf non esistente\")\n",
        "        stats = zonal_stats(df_o, nome_img, stats=\"mean\")\n",
        "        sdf = pd.DataFrame(stats)\n",
        "        sdf.rename(columns={'mean': 'm' + str(anno) + '0' + str(mese) }, inplace=True)\n",
        "        sdf = pd.concat([df_o, sdf], axis=1)\n",
        "        stats.clear()\n",
        "\n",
        "        #print('regione', reg, comune, 'anno', anno, 'mese', mese)#, center)#, aoi)\n",
        "    sdf.drop('geometry', inplace=True, axis=1)\n",
        "    sdf.to_excel(comune + '_' + 'stats.xlsx', index=False)\n",
        "    sdf.to_csv(comune + '_' + 'stats.csv', index=False)\n",
        "\n",
        "    #del sdf\n",
        "\n",
        "    break\n"
      ]
    },
    {
      "cell_type": "code",
      "execution_count": 1,
      "id": "b8c837d5-bf78-46aa-8076-6d8daf39b373",
      "metadata": {
        "tags": [],
        "colab": {
          "base_uri": "https://localhost:8080/",
          "height": 175
        },
        "id": "b8c837d5-bf78-46aa-8076-6d8daf39b373",
        "outputId": "f2ea828c-3818-409c-e13f-9c774e199e54"
      },
      "outputs": [
        {
          "output_type": "error",
          "ename": "NameError",
          "evalue": "ignored",
          "traceback": [
            "\u001b[0;31m---------------------------------------------------------------------------\u001b[0m",
            "\u001b[0;31mNameError\u001b[0m                                 Traceback (most recent call last)",
            "\u001b[0;32m<ipython-input-1-a0571c5b9493>\u001b[0m in \u001b[0;36m<cell line: 1>\u001b[0;34m()\u001b[0m\n\u001b[0;32m----> 1\u001b[0;31m \u001b[0msdf\u001b[0m\u001b[0;34m\u001b[0m\u001b[0;34m\u001b[0m\u001b[0m\n\u001b[0m",
            "\u001b[0;31mNameError\u001b[0m: name 'sdf' is not defined"
          ]
        }
      ],
      "source": [
        "sdf"
      ]
    },
    {
      "cell_type": "code",
      "execution_count": null,
      "id": "54445129-4483-4677-8f93-e1b4fcc9c1da",
      "metadata": {
        "tags": [],
        "id": "54445129-4483-4677-8f93-e1b4fcc9c1da",
        "outputId": "a4ce250b-9899-4694-823c-ca6cd8ae143f"
      },
      "outputs": [
        {
          "data": {
            "text/html": [
              "<div style=\"width:100%;\"><div style=\"position:relative;width:100%;height:0;padding-bottom:60%;\"><span style=\"color:#565656\">Make this Notebook Trusted to load map: File -> Trust Notebook</span><iframe srcdoc=\"&lt;!DOCTYPE html&gt;\n",
              "&lt;html&gt;\n",
              "&lt;head&gt;\n",
              "    \n",
              "    &lt;meta http-equiv=&quot;content-type&quot; content=&quot;text/html; charset=UTF-8&quot; /&gt;\n",
              "    \n",
              "        &lt;script&gt;\n",
              "            L_NO_TOUCH = false;\n",
              "            L_DISABLE_3D = false;\n",
              "        &lt;/script&gt;\n",
              "    \n",
              "    &lt;style&gt;html, body {width: 100%;height: 100%;margin: 0;padding: 0;}&lt;/style&gt;\n",
              "    &lt;style&gt;#map {position:absolute;top:0;bottom:0;right:0;left:0;}&lt;/style&gt;\n",
              "    &lt;script src=&quot;https://cdn.jsdelivr.net/npm/leaflet@1.9.3/dist/leaflet.js&quot;&gt;&lt;/script&gt;\n",
              "    &lt;script src=&quot;https://code.jquery.com/jquery-1.12.4.min.js&quot;&gt;&lt;/script&gt;\n",
              "    &lt;script src=&quot;https://cdn.jsdelivr.net/npm/bootstrap@5.2.2/dist/js/bootstrap.bundle.min.js&quot;&gt;&lt;/script&gt;\n",
              "    &lt;script src=&quot;https://cdnjs.cloudflare.com/ajax/libs/Leaflet.awesome-markers/2.0.2/leaflet.awesome-markers.js&quot;&gt;&lt;/script&gt;\n",
              "    &lt;link rel=&quot;stylesheet&quot; href=&quot;https://cdn.jsdelivr.net/npm/leaflet@1.9.3/dist/leaflet.css&quot;/&gt;\n",
              "    &lt;link rel=&quot;stylesheet&quot; href=&quot;https://cdn.jsdelivr.net/npm/bootstrap@5.2.2/dist/css/bootstrap.min.css&quot;/&gt;\n",
              "    &lt;link rel=&quot;stylesheet&quot; href=&quot;https://netdna.bootstrapcdn.com/bootstrap/3.0.0/css/bootstrap.min.css&quot;/&gt;\n",
              "    &lt;link rel=&quot;stylesheet&quot; href=&quot;https://cdn.jsdelivr.net/npm/@fortawesome/fontawesome-free@6.2.0/css/all.min.css&quot;/&gt;\n",
              "    &lt;link rel=&quot;stylesheet&quot; href=&quot;https://cdnjs.cloudflare.com/ajax/libs/Leaflet.awesome-markers/2.0.2/leaflet.awesome-markers.css&quot;/&gt;\n",
              "    &lt;link rel=&quot;stylesheet&quot; href=&quot;https://cdn.jsdelivr.net/gh/python-visualization/folium/folium/templates/leaflet.awesome.rotate.min.css&quot;/&gt;\n",
              "    \n",
              "            &lt;meta name=&quot;viewport&quot; content=&quot;width=device-width,\n",
              "                initial-scale=1.0, maximum-scale=1.0, user-scalable=no&quot; /&gt;\n",
              "            &lt;style&gt;\n",
              "                #map_1862f728e99de880204b74d0756c5d16 {\n",
              "                    position: relative;\n",
              "                    width: 100.0%;\n",
              "                    height: 500.0px;\n",
              "                    left: 0.0%;\n",
              "                    top: 0.0%;\n",
              "                }\n",
              "                .leaflet-container { font-size: 1rem; }\n",
              "            &lt;/style&gt;\n",
              "        \n",
              "    &lt;script src=&quot;https://cdnjs.cloudflare.com/ajax/libs/leaflet.fullscreen/1.4.2/Control.FullScreen.min.js&quot;&gt;&lt;/script&gt;\n",
              "    &lt;link rel=&quot;stylesheet&quot; href=&quot;https://cdnjs.cloudflare.com/ajax/libs/leaflet.fullscreen/1.4.2/Control.FullScreen.min.css&quot;/&gt;\n",
              "&lt;/head&gt;\n",
              "&lt;body&gt;\n",
              "    \n",
              "    \n",
              "            &lt;div class=&quot;folium-map&quot; id=&quot;map_1862f728e99de880204b74d0756c5d16&quot; &gt;&lt;/div&gt;\n",
              "        \n",
              "&lt;/body&gt;\n",
              "&lt;script&gt;\n",
              "    \n",
              "    \n",
              "            var map_1862f728e99de880204b74d0756c5d16 = L.map(\n",
              "                &quot;map_1862f728e99de880204b74d0756c5d16&quot;,\n",
              "                {\n",
              "                    center: [41.88562577941123, 12.46087274205473],\n",
              "                    crs: L.CRS.EPSG3857,\n",
              "                    zoom: 10,\n",
              "                    zoomControl: true,\n",
              "                    preferCanvas: false,\n",
              "                }\n",
              "            );\n",
              "\n",
              "            \n",
              "\n",
              "        \n",
              "    \n",
              "            var tile_layer_6696c9153a50afcd4e2ffe85ec511063 = L.tileLayer(\n",
              "                &quot;https://{s}.tile.openstreetmap.org/{z}/{x}/{y}.png&quot;,\n",
              "                {&quot;attribution&quot;: &quot;Data by \\u0026copy; \\u003ca target=\\&quot;_blank\\&quot; href=\\&quot;http://openstreetmap.org\\&quot;\\u003eOpenStreetMap\\u003c/a\\u003e, under \\u003ca target=\\&quot;_blank\\&quot; href=\\&quot;http://www.openstreetmap.org/copyright\\&quot;\\u003eODbL\\u003c/a\\u003e.&quot;, &quot;detectRetina&quot;: false, &quot;maxNativeZoom&quot;: 18, &quot;maxZoom&quot;: 18, &quot;minZoom&quot;: 0, &quot;noWrap&quot;: false, &quot;opacity&quot;: 1, &quot;subdomains&quot;: &quot;abc&quot;, &quot;tms&quot;: false}\n",
              "            ).addTo(map_1862f728e99de880204b74d0756c5d16);\n",
              "        \n",
              "    \n",
              "            var tile_layer_405cd87f1e1edc5e388f9a69544cb83a = L.tileLayer(\n",
              "                &quot;https://earthengine.googleapis.com/v1/projects/earthengine-legacy/maps/ff69a677bfa1601e48b525b9ddd8211e-d3117abbf92174746c1bad6c3c062962/tiles/{z}/{x}/{y}&quot;,\n",
              "                {&quot;attribution&quot;: &quot;Map Data \\u0026copy; \\u003ca href=\\&quot;https://earthengine.google.com/\\&quot;\\u003eGoogle Earth Engine\\u003c/a\\u003e&quot;, &quot;detectRetina&quot;: false, &quot;maxNativeZoom&quot;: 18, &quot;maxZoom&quot;: 18, &quot;minZoom&quot;: 0, &quot;noWrap&quot;: false, &quot;opacity&quot;: 1, &quot;subdomains&quot;: &quot;abc&quot;, &quot;tms&quot;: false}\n",
              "            ).addTo(map_1862f728e99de880204b74d0756c5d16);\n",
              "        \n",
              "    \n",
              "            var layer_control_a9ee250ce06ed0227409cf6856ff0026 = {\n",
              "                base_layers : {\n",
              "                    &quot;openstreetmap&quot; : tile_layer_6696c9153a50afcd4e2ffe85ec511063,\n",
              "                },\n",
              "                overlays :  {\n",
              "                    &quot;Temperature massime registrate&quot; : tile_layer_405cd87f1e1edc5e388f9a69544cb83a,\n",
              "                },\n",
              "            };\n",
              "            L.control.layers(\n",
              "                layer_control_a9ee250ce06ed0227409cf6856ff0026.base_layers,\n",
              "                layer_control_a9ee250ce06ed0227409cf6856ff0026.overlays,\n",
              "                {&quot;autoZIndex&quot;: true, &quot;collapsed&quot;: true, &quot;position&quot;: &quot;topright&quot;}\n",
              "            ).addTo(map_1862f728e99de880204b74d0756c5d16);\n",
              "        \n",
              "    \n",
              "            L.control.fullscreen(\n",
              "                {&quot;forceSeparateButton&quot;: false, &quot;position&quot;: &quot;topleft&quot;, &quot;title&quot;: &quot;Full Screen&quot;, &quot;titleCancel&quot;: &quot;Exit Full Screen&quot;}\n",
              "            ).addTo(map_1862f728e99de880204b74d0756c5d16);\n",
              "        \n",
              "&lt;/script&gt;\n",
              "&lt;/html&gt;\" style=\"position:absolute;width:100%;height:100%;left:0;top:0;border:none !important;\" allowfullscreen webkitallowfullscreen mozallowfullscreen></iframe></div></div>"
            ],
            "text/plain": [
              "<folium.folium.Map at 0x1f2334f9a50>"
            ]
          },
          "metadata": {},
          "output_type": "display_data"
        }
      ],
      "source": [
        "vis_params = {\n",
        "  'min': 30,\n",
        "  'max': 55,\n",
        "  'palette': ['purple', 'brown', 'red', 'orange','yellow', 'white']}\n",
        "\n",
        "# Create a folium map object.\n",
        "my_map = folium.Map(location=[lat, lon], zoom_start=10, height=500)\n",
        "\n",
        "my_map.add_ee_layer(thermal.updateMask(thermal.gt(0)), vis_params, 'Temperature massime registrate')\n",
        "\n",
        "my_map.add_child(folium.LayerControl())\n",
        "plugins.Fullscreen().add_to(my_map)\n",
        "display(my_map)"
      ]
    },
    {
      "cell_type": "code",
      "execution_count": null,
      "id": "0bf3336e-e0e9-4a85-9428-768eaf082da4",
      "metadata": {
        "id": "0bf3336e-e0e9-4a85-9428-768eaf082da4"
      },
      "outputs": [],
      "source": []
    }
  ],
  "metadata": {
    "kernelspec": {
      "display_name": "Python 3 (ipykernel)",
      "language": "python",
      "name": "python3"
    },
    "language_info": {
      "codemirror_mode": {
        "name": "ipython",
        "version": 3
      },
      "file_extension": ".py",
      "mimetype": "text/x-python",
      "name": "python",
      "nbconvert_exporter": "python",
      "pygments_lexer": "ipython3",
      "version": "3.11.4"
    },
    "colab": {
      "provenance": []
    }
  },
  "nbformat": 4,
  "nbformat_minor": 5
}